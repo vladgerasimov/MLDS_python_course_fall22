{
 "cells": [
  {
   "cell_type": "code",
   "execution_count": 4,
   "metadata": {},
   "outputs": [],
   "source": [
    "import pandas as pd\n",
    "import seaborn as sns\n",
    "import matplotlib.pyplot as plt "
   ]
  },
  {
   "cell_type": "code",
   "execution_count": 2,
   "metadata": {
    "scrolled": true
   },
   "outputs": [
    {
     "data": {
      "text/html": [
       "<div>\n",
       "<style scoped>\n",
       "    .dataframe tbody tr th:only-of-type {\n",
       "        vertical-align: middle;\n",
       "    }\n",
       "\n",
       "    .dataframe tbody tr th {\n",
       "        vertical-align: top;\n",
       "    }\n",
       "\n",
       "    .dataframe thead th {\n",
       "        text-align: right;\n",
       "    }\n",
       "</style>\n",
       "<table border=\"1\" class=\"dataframe\">\n",
       "  <thead>\n",
       "    <tr style=\"text-align: right;\">\n",
       "      <th></th>\n",
       "      <th>brand</th>\n",
       "      <th>name</th>\n",
       "      <th>description</th>\n",
       "      <th>price_before_discount</th>\n",
       "      <th>final_price</th>\n",
       "      <th>discount</th>\n",
       "      <th>contains</th>\n",
       "    </tr>\n",
       "  </thead>\n",
       "  <tbody>\n",
       "    <tr>\n",
       "      <th>0</th>\n",
       "      <td>Deeluxe</td>\n",
       "      <td>Куртка утепленная</td>\n",
       "      <td>Куртка утепленная выполнена из плотного тексти...</td>\n",
       "      <td>11800</td>\n",
       "      <td>11800</td>\n",
       "      <td>0</td>\n",
       "      <td>Полиамид - 100%</td>\n",
       "    </tr>\n",
       "    <tr>\n",
       "      <th>1</th>\n",
       "      <td>Tom Tailor</td>\n",
       "      <td>Джинсы</td>\n",
       "      <td>None</td>\n",
       "      <td>7999</td>\n",
       "      <td>7999</td>\n",
       "      <td>0</td>\n",
       "      <td>Хлопок - 85%, Полиэстер - 13%, Эластан - 2%</td>\n",
       "    </tr>\n",
       "    <tr>\n",
       "      <th>2</th>\n",
       "      <td>Jimmy Sanders</td>\n",
       "      <td>Джемпер</td>\n",
       "      <td>None</td>\n",
       "      <td>8299</td>\n",
       "      <td>4140</td>\n",
       "      <td>50</td>\n",
       "      <td>Хлопок - 50%, Акрил - 50%</td>\n",
       "    </tr>\n",
       "    <tr>\n",
       "      <th>3</th>\n",
       "      <td>Norveg</td>\n",
       "      <td>Трусы SOFT MERINO</td>\n",
       "      <td>Данный товар является частью проекта Lamoda pl...</td>\n",
       "      <td>2600</td>\n",
       "      <td>2600</td>\n",
       "      <td>0</td>\n",
       "      <td>Мериноcовая шерсть - 100%</td>\n",
       "    </tr>\n",
       "    <tr>\n",
       "      <th>4</th>\n",
       "      <td>Nordway</td>\n",
       "      <td>Брюки спортивные</td>\n",
       "      <td>Брюки для зимних видов спорта выполнены из мат...</td>\n",
       "      <td>3799</td>\n",
       "      <td>3799</td>\n",
       "      <td>0</td>\n",
       "      <td>Полиэстер - 88%, Эластан - 12%</td>\n",
       "    </tr>\n",
       "  </tbody>\n",
       "</table>\n",
       "</div>"
      ],
      "text/plain": [
       "           brand               name  \\\n",
       "0        Deeluxe  Куртка утепленная   \n",
       "1     Tom Tailor             Джинсы   \n",
       "2  Jimmy Sanders            Джемпер   \n",
       "3         Norveg  Трусы SOFT MERINO   \n",
       "4        Nordway   Брюки спортивные   \n",
       "\n",
       "                                         description  price_before_discount  \\\n",
       "0  Куртка утепленная выполнена из плотного тексти...                  11800   \n",
       "1                                               None                   7999   \n",
       "2                                               None                   8299   \n",
       "3  Данный товар является частью проекта Lamoda pl...                   2600   \n",
       "4  Брюки для зимних видов спорта выполнены из мат...                   3799   \n",
       "\n",
       "   final_price  discount                                     contains  \n",
       "0        11800         0                              Полиамид - 100%  \n",
       "1         7999         0  Хлопок - 85%, Полиэстер - 13%, Эластан - 2%  \n",
       "2         4140        50                    Хлопок - 50%, Акрил - 50%  \n",
       "3         2600         0                    Мериноcовая шерсть - 100%  \n",
       "4         3799         0               Полиэстер - 88%, Эластан - 12%  "
      ]
     },
     "execution_count": 2,
     "metadata": {},
     "output_type": "execute_result"
    }
   ],
   "source": [
    "df = pd.read_json('items.json')\n",
    "df.head()"
   ]
  },
  {
   "cell_type": "code",
   "execution_count": 42,
   "metadata": {},
   "outputs": [
    {
     "data": {
      "text/plain": [
       "(5994, 7)"
      ]
     },
     "execution_count": 42,
     "metadata": {},
     "output_type": "execute_result"
    }
   ],
   "source": [
    "df.shape"
   ]
  },
  {
   "cell_type": "markdown",
   "metadata": {},
   "source": [
    "### Самые популярные названия одежды"
   ]
  },
  {
   "cell_type": "code",
   "execution_count": 40,
   "metadata": {},
   "outputs": [
    {
     "data": {
      "text/plain": [
       "Куртка утепленная    704\n",
       "Джинсы               467\n",
       "Джемпер              375\n",
       "Брюки                336\n",
       "Брюки спортивные     278\n",
       "Водолазка            224\n",
       "Футболка             202\n",
       "Рубашка              178\n",
       "Трусы                162\n",
       "Пуховик              148\n",
       "Name: name, dtype: int64"
      ]
     },
     "execution_count": 40,
     "metadata": {},
     "output_type": "execute_result"
    }
   ],
   "source": [
    "df['name'].value_counts()[:10]"
   ]
  },
  {
   "cell_type": "markdown",
   "metadata": {},
   "source": [
    "### Топ брендов"
   ]
  },
  {
   "cell_type": "code",
   "execution_count": 41,
   "metadata": {},
   "outputs": [
    {
     "data": {
      "text/plain": [
       "O'stin           240\n",
       "UNIQLO           185\n",
       "oodji            184\n",
       "Tom Tailor       171\n",
       "Baon             169\n",
       "DeFacto          168\n",
       "Colin's          162\n",
       "Finn Flare       142\n",
       "Mark Formelle    133\n",
       "Mango Man        130\n",
       "Name: brand, dtype: int64"
      ]
     },
     "execution_count": 41,
     "metadata": {},
     "output_type": "execute_result"
    }
   ],
   "source": [
    "most_pupular_brands = df['brand'].value_counts()\n",
    "\n",
    "most_pupular_brands[:10]"
   ]
  },
  {
   "cell_type": "markdown",
   "metadata": {},
   "source": [
    "### Распределение цены"
   ]
  },
  {
   "cell_type": "code",
   "execution_count": 26,
   "metadata": {},
   "outputs": [
    {
     "data": {
      "image/png": "[encoded data removed]",
      "text/plain": [
       "<Figure size 1296x432 with 2 Axes>"
      ]
     },
     "metadata": {
      "needs_background": "light"
     },
     "output_type": "display_data"
    }
   ],
   "source": [
    "f, ax = plt.subplots(1, 2, figsize=(18, 6))\n",
    "sns.despine(f)\n",
    "\n",
    "sns.histplot(df,\n",
    "            x='final_price',\n",
    "            ax=ax[0])\n",
    "\n",
    "\n",
    "sns.histplot(df,\n",
    "            x='final_price',\n",
    "             log_scale=True,\n",
    "            ax=ax[1])\n",
    "\n",
    "plt.show()"
   ]
  },
  {
   "cell_type": "markdown",
   "metadata": {},
   "source": [
    "### Гистограмма самых часто встречающихся брендов"
   ]
  },
  {
   "cell_type": "code",
   "execution_count": 23,
   "metadata": {},
   "outputs": [
    {
     "data": {
      "image/png": "[encoded data removed]",
      "text/plain": [
       "<Figure size 1008x360 with 1 Axes>"
      ]
     },
     "metadata": {
      "needs_background": "light"
     },
     "output_type": "display_data"
    }
   ],
   "source": [
    "f, ax = plt.subplots(figsize=(14, 5))\n",
    "sns.despine(f)\n",
    "\n",
    "sns.histplot(df.loc[df['brand'].isin(set(most_pupular_brands[:10].index))],\n",
    "            x='brand')\n",
    "\n",
    "plt.show()"
   ]
  },
  {
   "cell_type": "markdown",
   "metadata": {},
   "source": [
    "### Распределение размера скидки"
   ]
  },
  {
   "cell_type": "code",
   "execution_count": 33,
   "metadata": {},
   "outputs": [
    {
     "data": {
      "image/png": "[encoded data removed]",
      "text/plain": [
       "<Figure size 864x360 with 1 Axes>"
      ]
     },
     "metadata": {
      "needs_background": "light"
     },
     "output_type": "display_data"
    }
   ],
   "source": [
    "f, ax = plt.subplots(figsize=(12, 5))\n",
    "sns.despine(f)\n",
    "\n",
    "sns.histplot(df,\n",
    "            x='discount')\n",
    "\n",
    "plt.show()"
   ]
  },
  {
   "cell_type": "code",
   "execution_count": null,
   "metadata": {},
   "outputs": [],
   "source": []
  }
 ],
 "metadata": {
  "kernelspec": {
   "display_name": "Python 3",
   "language": "python",
   "name": "python3"
  },
  "language_info": {
   "codemirror_mode": {
    "name": "ipython",
    "version": 3
   },
   "file_extension": ".py",
   "mimetype": "text/x-python",
   "name": "python",
   "nbconvert_exporter": "python",
   "pygments_lexer": "ipython3",
   "version": "3.8.5"
  }
 },
 "nbformat": 4,
 "nbformat_minor": 4
}
